{
  "nbformat": 4,
  "nbformat_minor": 0,
  "metadata": {
    "colab": {
      "provenance": []
    },
    "kernelspec": {
      "name": "python3",
      "display_name": "Python 3"
    },
    "language_info": {
      "name": "python"
    }
  },
  "cells": [
    {
      "cell_type": "code",
      "source": [
        "import requests\n",
        "from bs4 import BeautifulSoup\n",
        "import pandas as pd\n",
        "import time\n",
        "\n",
        "# 구글 뉴스 RSS URL\n",
        "google_news_url = \"https://news.google.com/rss\"\n",
        "\n",
        "def get_news():\n",
        "    # 뉴스 데이터를 저장할 리스트 초기화\n",
        "    news_items = []\n",
        "\n",
        "    # 구글 뉴스 RSS 피드에서 데이터 가져오기\n",
        "    response = requests.get(google_news_url)\n",
        "    soup = BeautifulSoup(response.content, 'xml')\n",
        "\n",
        "    # 뉴스 아이템 파싱\n",
        "    items = soup.find_all('item')\n",
        "\n",
        "    # 뉴스 아이템 정보 추출\n",
        "    for item in items:\n",
        "        news = {\n",
        "            'title': item.title.text,\n",
        "            'link': item.link.text,\n",
        "            'pubDate': item.pubDate.text,\n",
        "            'description': item.description.text\n",
        "        }\n",
        "        news_items.append(news)\n",
        "        # 최대 100개의 뉴스 아이템만 저장\n",
        "        if len(news_items) >= 100:\n",
        "            break\n",
        "\n",
        "    return news_items\n",
        "\n",
        "def save_to_csv(news_items, filename='google_news.csv'):\n",
        "    try:\n",
        "        existing_df = pd.read_csv(filename)\n",
        "        df = pd.DataFrame(news_items)\n",
        "        df = pd.concat([existing_df, df]).drop_duplicates().reset_index(drop=True)\n",
        "    except FileNotFoundError:\n",
        "        df = pd.DataFrame(news_items)\n",
        "\n",
        "    df.to_csv(filename, index=False)\n",
        "    print(f\"Saved {len(news_items)} news items to {filename}\")\n",
        "\n",
        "# 실시간 데이터 수집 시뮬레이션\n",
        "collect_interval = 600  # 10 minutes in seconds\n",
        "\n",
        "try:\n",
        "    while True:\n",
        "        print(\"Collecting news...\")\n",
        "        news_items = get_news()\n",
        "        save_to_csv(news_items)\n",
        "        print(f\"Sleeping for {collect_interval // 60} minutes...\")\n",
        "        time.sleep(collect_interval)\n",
        "except KeyboardInterrupt:\n",
        "    print(\"Stopped by user\")\n"
      ],
      "metadata": {
        "colab": {
          "base_uri": "https://localhost:8080/"
        },
        "id": "MgzHtPY10-Lo",
        "outputId": "056cdaed-6145-4aa1-b212-fa4a98319f52"
      },
      "execution_count": null,
      "outputs": [
        {
          "output_type": "stream",
          "name": "stdout",
          "text": [
            "Collecting news...\n",
            "Saved 38 news items to google_news.csv\n",
            "Sleeping for 10 minutes...\n",
            "Stopped by user\n"
          ]
        }
      ]
    },
    {
      "cell_type": "code",
      "source": [],
      "metadata": {
        "id": "GtV09G4J1SAT"
      },
      "execution_count": null,
      "outputs": []
    }
  ]
}